{
 "cells": [
  {
   "cell_type": "markdown",
   "id": "50bcf56d-dc2b-44ae-8ad2-6069d78f210d",
   "metadata": {},
   "source": [
    "For large datasets. Performing process over the entire dataset can be very costly. So to solve this, do in batches.<br>\n",
    "<br>\n",
    "Definitions:<br>\n",
    "Epoch - 1 forward and backward pass of ALL training samples<br>\n",
    "batch size = number of traning samples in one forward and backward pass<br>\n",
    "number of iterations = number of passes, each pass having batch_size number of samples<br>"
   ]
  },
  {
   "cell_type": "code",
   "execution_count": 2,
   "id": "4c04eda6-d3b7-4566-a8c8-e7cf9bbb630a",
   "metadata": {},
   "outputs": [],
   "source": [
    "import torch as tc\n",
    "import torchvision as tv\n",
    "from torch.utils.data import Dataset, DataLoader\n",
    "import numpy as np\n",
    "import math"
   ]
  },
  {
   "cell_type": "code",
   "execution_count": null,
   "id": "2a3fa52d-7941-45c3-b21e-aa046b98e9b4",
   "metadata": {},
   "outputs": [],
   "source": [
    "class WineDataset(Dataset):\n",
    "    \n",
    "    def __init__(self):\n",
    "        xy = numpy.loadtxt('./Data/wine.csv',delimiter=',',dtype=np.float32,skiprows=1)\n",
    "        self.x = xy[:,1:]\n",
    "        self.y = \n",
    "        \n",
    "    def __getitem__(self, index):\n",
    "        # dataset[0] for example\n",
    "        \n",
    "    def __len__(self):\n",
    "        # len(dataset)"
   ]
  }
 ],
 "metadata": {
  "kernelspec": {
   "display_name": "Python 3 (ipykernel)",
   "language": "python",
   "name": "python3"
  },
  "language_info": {
   "codemirror_mode": {
    "name": "ipython",
    "version": 3
   },
   "file_extension": ".py",
   "mimetype": "text/x-python",
   "name": "python",
   "nbconvert_exporter": "python",
   "pygments_lexer": "ipython3",
   "version": "3.9.10"
  }
 },
 "nbformat": 4,
 "nbformat_minor": 5
}
