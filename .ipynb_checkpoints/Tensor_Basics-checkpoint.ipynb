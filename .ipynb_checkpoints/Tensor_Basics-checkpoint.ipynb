{
 "cells": [
  {
   "cell_type": "markdown",
   "id": "d5c5e3c6-bbdd-4801-b078-8ca9cb03b8be",
   "metadata": {},
   "source": [
    "Link to Lesson: https://www.youtube.com/watch?v=exaWOE8jvy8&list=PLqnslRFeH2UrcDBWF5mfPGpqQDSta6VK4&index=2"
   ]
  },
  {
   "cell_type": "code",
   "execution_count": 6,
   "id": "b07c89c9-b3b9-40bb-8750-8d61c652b4af",
   "metadata": {},
   "outputs": [],
   "source": [
    "import torch"
   ]
  },
  {
   "cell_type": "code",
   "execution_count": 7,
   "id": "c303da66-0be0-4435-a44e-2a02db133d15",
   "metadata": {},
   "outputs": [
    {
     "data": {
      "text/plain": [
       "tensor([0., 0., 0.])"
      ]
     },
     "execution_count": 7,
     "metadata": {},
     "output_type": "execute_result"
    }
   ],
   "source": [
    "# 1D vector with 3 elements\n",
    "x = torch.empty(3)\n",
    "x"
   ]
  },
  {
   "cell_type": "code",
   "execution_count": 8,
   "id": "2b5b2542-f7dc-4b72-8895-5c9ad1f72387",
   "metadata": {},
   "outputs": [
    {
     "data": {
      "text/plain": [
       "tensor([[0., 0., 0.],\n",
       "        [0., 0., 0.]])"
      ]
     },
     "execution_count": 8,
     "metadata": {},
     "output_type": "execute_result"
    }
   ],
   "source": [
    "# 2D matrix 2 x 3\n",
    "x = torch.empty(2, 3)\n",
    "x"
   ]
  },
  {
   "cell_type": "markdown",
   "id": "5327607a-46d1-43c1-854c-7403fdf781ca",
   "metadata": {},
   "source": [
    "Can list as many dimensions as you want."
   ]
  },
  {
   "cell_type": "code",
   "execution_count": 9,
   "id": "70bb0ee0-6a28-40cf-a9aa-e83a5ff66af5",
   "metadata": {},
   "outputs": [
    {
     "data": {
      "text/plain": [
       "tensor([[0., 0., 0.],\n",
       "        [0., 0., 0.]])"
      ]
     },
     "execution_count": 9,
     "metadata": {},
     "output_type": "execute_result"
    }
   ],
   "source": [
    "# 2D matrix 2 x 3 filled with zeroes\n",
    "x = torch.zeros(2, 3)\n",
    "x"
   ]
  },
  {
   "cell_type": "code",
   "execution_count": 10,
   "id": "cdcb52e3-51f5-4793-948b-a3665d197874",
   "metadata": {},
   "outputs": [
    {
     "data": {
      "text/plain": [
       "tensor([[1., 1., 1.],\n",
       "        [1., 1., 1.]])"
      ]
     },
     "execution_count": 10,
     "metadata": {},
     "output_type": "execute_result"
    }
   ],
   "source": [
    "# 2D matrix 2 x 3 filled with ones\n",
    "x = torch.ones(2, 3)\n",
    "x"
   ]
  },
  {
   "cell_type": "code",
   "execution_count": 11,
   "id": "b32854d4-21e0-4e6f-9be0-ba5b322bf9b4",
   "metadata": {},
   "outputs": [
    {
     "data": {
      "text/plain": [
       "torch.float32"
      ]
     },
     "execution_count": 11,
     "metadata": {},
     "output_type": "execute_result"
    }
   ],
   "source": [
    "# Check type\n",
    "x.dtype"
   ]
  },
  {
   "cell_type": "code",
   "execution_count": 12,
   "id": "91af4b21-4a65-4498-bf87-aeddf173d653",
   "metadata": {},
   "outputs": [
    {
     "data": {
      "text/plain": [
       "tensor([[1., 1., 1.],\n",
       "        [1., 1., 1.]], dtype=torch.float64)"
      ]
     },
     "execution_count": 12,
     "metadata": {},
     "output_type": "execute_result"
    }
   ],
   "source": [
    "# Set type on initiation\n",
    "# 2D matrix 2 x 3 filled with ones\n",
    "x = torch.ones(2, 3, dtype=torch.double)\n",
    "x"
   ]
  },
  {
   "cell_type": "code",
   "execution_count": 13,
   "id": "ee6ce0c8-aa24-497b-9dc5-296537a014e1",
   "metadata": {},
   "outputs": [
    {
     "data": {
      "text/plain": [
       "torch.float64"
      ]
     },
     "execution_count": 13,
     "metadata": {},
     "output_type": "execute_result"
    }
   ],
   "source": [
    "x.dtype"
   ]
  },
  {
   "cell_type": "code",
   "execution_count": 14,
   "id": "88ae27f5-89ca-4deb-9b48-4ca01fbf962a",
   "metadata": {},
   "outputs": [
    {
     "data": {
      "text/plain": [
       "tensor([2.5000, 0.1000])"
      ]
     },
     "execution_count": 14,
     "metadata": {},
     "output_type": "execute_result"
    }
   ],
   "source": [
    "# Create Tensor\n",
    "x = torch.tensor([2.5,0.1])\n",
    "x"
   ]
  },
  {
   "cell_type": "code",
   "execution_count": null,
   "id": "fbf593ba-4bb1-49e8-82b7-3b3175652f10",
   "metadata": {},
   "outputs": [],
   "source": []
  }
 ],
 "metadata": {
  "kernelspec": {
   "display_name": "Python 3 (ipykernel)",
   "language": "python",
   "name": "python3"
  },
  "language_info": {
   "codemirror_mode": {
    "name": "ipython",
    "version": 3
   },
   "file_extension": ".py",
   "mimetype": "text/x-python",
   "name": "python",
   "nbconvert_exporter": "python",
   "pygments_lexer": "ipython3",
   "version": "3.9.10"
  }
 },
 "nbformat": 4,
 "nbformat_minor": 5
}
