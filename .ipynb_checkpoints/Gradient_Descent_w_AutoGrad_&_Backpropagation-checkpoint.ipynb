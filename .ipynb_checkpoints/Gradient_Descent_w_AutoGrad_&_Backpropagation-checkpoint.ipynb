{
 "cells": [
  {
   "cell_type": "markdown",
   "id": "3aad4d3f-bfa8-4c76-9e1e-ecd47ba375ec",
   "metadata": {},
   "source": [
    "# Using numpy"
   ]
  },
  {
   "cell_type": "code",
   "execution_count": null,
   "id": "c6019348-dfe0-4082-84b4-66ed5d821a1e",
   "metadata": {},
   "outputs": [],
   "source": [
    "import numpy as np"
   ]
  },
  {
   "cell_type": "code",
   "execution_count": 2,
   "id": "034c2a68-edc7-444b-850c-fbe127f7d0a9",
   "metadata": {},
   "outputs": [],
   "source": [
    "# f = w * x\n",
    "# f = 2 * x"
   ]
  },
  {
   "cell_type": "code",
   "execution_count": 3,
   "id": "4d96dd21-c559-4afe-bfd9-f730eb0de1be",
   "metadata": {},
   "outputs": [],
   "source": [
    "X = np.array([1,2,3,4],dtype=np.float32)\n",
    "Y = np.array([2,4,6,8],dtype=np.float32)\n",
    "\n",
    "w = 0.0"
   ]
  },
  {
   "cell_type": "code",
   "execution_count": 4,
   "id": "90ce9fef-f293-4d52-84de-fc5cf15eb517",
   "metadata": {},
   "outputs": [],
   "source": [
    "# model prediction\n",
    "def forward(x):\n",
    "    return w * x"
   ]
  },
  {
   "cell_type": "code",
   "execution_count": 5,
   "id": "5f779982-73e9-48ce-8f06-7526f7e83828",
   "metadata": {},
   "outputs": [],
   "source": [
    "# loss = MSE\n",
    "def loss(y, y_predicted):\n",
    "    return ((y_predicted - y)**2).mean()"
   ]
  },
  {
   "cell_type": "code",
   "execution_count": 6,
   "id": "3511c8d1-f566-4b48-abda-3ea33d05fa21",
   "metadata": {},
   "outputs": [],
   "source": [
    "# gradient\n",
    "# MSE = 1/N * (w*x - y)**2\n",
    "#dJ/dw = 1/N  2x  (w*x - y)\n",
    "def gradient(x,y, y_predicted):\n",
    "    return np.dot(2 * x, y_predicted - y).mean()"
   ]
  },
  {
   "cell_type": "code",
   "execution_count": 7,
   "id": "72dbe0d1-0106-4786-9e62-72e6f597c16c",
   "metadata": {},
   "outputs": [
    {
     "name": "stdout",
     "output_type": "stream",
     "text": [
      "Prediction before training: 0.0\n"
     ]
    }
   ],
   "source": [
    "# Prediction before training\n",
    "print(f'Prediction before training: {forward(5)}')"
   ]
  },
  {
   "cell_type": "code",
   "execution_count": 8,
   "id": "93c2c23d-5280-419f-bacf-bb47aec4d7f8",
   "metadata": {},
   "outputs": [],
   "source": [
    "# Training\n",
    "learning_rate = 0.01\n",
    "n_iterations = 20"
   ]
  },
  {
   "cell_type": "code",
   "execution_count": 9,
   "id": "6e589c2c-2fc6-4619-b01e-96b3e0af5669",
   "metadata": {},
   "outputs": [
    {
     "name": "stdout",
     "output_type": "stream",
     "text": [
      "Epoch 0: w = 1.200, loss = 30.00000000\n",
      "Epoch 2: w = 1.872, loss = 0.76800019\n",
      "Epoch 4: w = 1.980, loss = 0.01966083\n",
      "Epoch 6: w = 1.997, loss = 0.00050331\n",
      "Epoch 8: w = 1.999, loss = 0.00001288\n",
      "Epoch 10: w = 2.000, loss = 0.00000033\n",
      "Epoch 12: w = 2.000, loss = 0.00000001\n",
      "Epoch 14: w = 2.000, loss = 0.00000000\n",
      "Epoch 16: w = 2.000, loss = 0.00000000\n",
      "Epoch 18: w = 2.000, loss = 0.00000000\n"
     ]
    }
   ],
   "source": [
    "# Training Loop\n",
    "for epoch in range(n_iterations):\n",
    "    # prediction = forward pass\n",
    "    y_pred = forward(X)\n",
    "    \n",
    "    # loss\n",
    "    l = loss(Y,y_pred)\n",
    "    \n",
    "    # gradients\n",
    "    dw = gradient(X, Y, y_pred)\n",
    "    \n",
    "    # update weights\n",
    "    w -= learning_rate * dw\n",
    "    \n",
    "    if epoch % 2 == 0:\n",
    "        print(f'Epoch {epoch}: w = {w:.3f}, loss = {l:.8f}')"
   ]
  },
  {
   "cell_type": "code",
   "execution_count": 10,
   "id": "ec0a0cd3-34ba-4af6-95ae-d6c3842cedbd",
   "metadata": {},
   "outputs": [
    {
     "name": "stdout",
     "output_type": "stream",
     "text": [
      "Prediction after training: 10.000\n"
     ]
    }
   ],
   "source": [
    "# Prediction after training\n",
    "print(f'Prediction after training: {forward(5):.3f}')"
   ]
  },
  {
   "cell_type": "code",
   "execution_count": null,
   "id": "df421582-6321-4e12-8110-a1660b453044",
   "metadata": {},
   "outputs": [],
   "source": []
  }
 ],
 "metadata": {
  "kernelspec": {
   "display_name": "Python 3 (ipykernel)",
   "language": "python",
   "name": "python3"
  },
  "language_info": {
   "codemirror_mode": {
    "name": "ipython",
    "version": 3
   },
   "file_extension": ".py",
   "mimetype": "text/x-python",
   "name": "python",
   "nbconvert_exporter": "python",
   "pygments_lexer": "ipython3",
   "version": "3.9.10"
  }
 },
 "nbformat": 4,
 "nbformat_minor": 5
}
