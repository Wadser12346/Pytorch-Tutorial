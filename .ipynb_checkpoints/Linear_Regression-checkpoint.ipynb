{
 "cells": [
  {
   "cell_type": "markdown",
   "id": "ae58c8c4-9bb4-4e8a-b6b4-2656aad7afed",
   "metadata": {},
   "source": [
    "#### 1) Design Model (input, output size, forward pass)\n",
    "#### 2) Construct Loss and Optimizer\n",
    "#### 3) Training Loop\n",
    "##### Forward Pass: Compute prediction\n",
    "##### Backward Pass: Gradients"
   ]
  },
  {
   "cell_type": "code",
   "execution_count": 1,
   "id": "fcdecfb6-d1ce-435e-9798-b32e5ac1f9f7",
   "metadata": {},
   "outputs": [],
   "source": [
    "import torch as tc\n",
    "import torch.nn as nn\n",
    "import numpy as np\n",
    "from sklearn import datasets\n",
    "import matplotlib.pyplot as plt"
   ]
  },
  {
   "cell_type": "markdown",
   "id": "0ba3454d-aec3-440a-8557-d670e0fd6d9d",
   "metadata": {},
   "source": [
    "##### 0) Prepare Data"
   ]
  },
  {
   "cell_type": "code",
   "execution_count": 2,
   "id": "037481e9-73d1-46d5-b74b-c82e35c71e2a",
   "metadata": {},
   "outputs": [],
   "source": [
    "X_numpy, y_numpy = datasets.make_regression(n_samples=100, n_features=1,noise=20,random_state=1)\n",
    "X = tc.from_numpy(X_numpy.astype(np.float32))\n",
    "y = tc.from_numpy(y_numpy.astype(np.float32))\n",
    "# reshape y from 1 row to column vector\n",
    "y = y.view(y.shape[0],1)\n",
    "\n",
    "n_samples, n_features = X.shape"
   ]
  },
  {
   "cell_type": "markdown",
   "id": "facb3cc6-b1f8-4697-9834-482812322475",
   "metadata": {},
   "source": [
    "##### 1) Model"
   ]
  },
  {
   "cell_type": "code",
   "execution_count": 3,
   "id": "b4dead88-5072-4a76-94ab-156cf79f631b",
   "metadata": {},
   "outputs": [],
   "source": [
    "input_size = n_features\n",
    "output_size = 1\n",
    "model = nn.Linear(input_size, output_size)"
   ]
  },
  {
   "cell_type": "markdown",
   "id": "2281594f-c693-401b-b68f-a784f2592781",
   "metadata": {},
   "source": [
    "##### 2) Loss and Optimizer"
   ]
  },
  {
   "cell_type": "code",
   "execution_count": 4,
   "id": "d451954e-d691-4f30-bbd1-c08e2f3eae9c",
   "metadata": {},
   "outputs": [],
   "source": [
    "learning_rate = 0.01\n",
    "criterion = nn.MSELoss()\n",
    "optimizer = tc.optim.SGD(model.parameters(),lr=learning_rate)"
   ]
  },
  {
   "cell_type": "markdown",
   "id": "7dccec0c-55ad-4cd7-9864-4cb003520efe",
   "metadata": {},
   "source": [
    "##### 3) Training Loop"
   ]
  },
  {
   "cell_type": "code",
   "execution_count": 5,
   "id": "5806c14e-f8ef-4560-8d62-7a295ee8dd31",
   "metadata": {},
   "outputs": [
    {
     "name": "stdout",
     "output_type": "stream",
     "text": [
      "epoch 1, loss = 5686.8398\n",
      "epoch 11, loss = 4211.4111\n",
      "epoch 21, loss = 3145.2988\n",
      "epoch 31, loss = 2374.0525\n",
      "epoch 41, loss = 1815.5146\n",
      "epoch 51, loss = 1410.6161\n",
      "epoch 61, loss = 1116.8229\n",
      "epoch 71, loss = 903.4650\n",
      "epoch 81, loss = 748.3987\n",
      "epoch 91, loss = 635.6162\n"
     ]
    }
   ],
   "source": [
    "n_epochs = 100\n",
    "for epoch in range(n_epochs):\n",
    "    # Forward pass and loss\n",
    "    y_pred = model(X)\n",
    "    loss = criterion(y_pred, y)\n",
    "    \n",
    "    # Backward pass\n",
    "    loss.backward()\n",
    "    \n",
    "    # Update\n",
    "    optimizer.step()\n",
    "    \n",
    "    # Zero out gradients before next iteration\n",
    "    optimizer.zero_grad()\n",
    "    \n",
    "    if epoch+1 % 10 == 0:\n",
    "        print(f'epoch {epoch + 1}, loss = {loss.item():.4f}')"
   ]
  },
  {
   "cell_type": "code",
   "execution_count": 6,
   "id": "4b8b83f0-70e3-499d-82be-6701df68c289",
   "metadata": {},
   "outputs": [
    {
     "data": {
      "image/png": "[encoded data removed]",
      "text/plain": [
       "<Figure size 432x288 with 1 Axes>"
      ]
     },
     "metadata": {
      "needs_background": "light"
     },
     "output_type": "display_data"
    }
   ],
   "source": [
    "# Plot\n",
    "predicted = model(X).detach() # removes operation from being tracked in gradient calc\n",
    "plt.plot(X_numpy, y_numpy, 'ro')\n",
    "plt.plot(X_numpy,predicted, 'b')\n",
    "plt.show()"
   ]
  },
  {
   "cell_type": "code",
   "execution_count": null,
   "id": "ccd87800-2a11-456d-8237-4c622865a692",
   "metadata": {},
   "outputs": [],
   "source": []
  }
 ],
 "metadata": {
  "kernelspec": {
   "display_name": "Python 3 (ipykernel)",
   "language": "python",
   "name": "python3"
  },
  "language_info": {
   "codemirror_mode": {
    "name": "ipython",
    "version": 3
   },
   "file_extension": ".py",
   "mimetype": "text/x-python",
   "name": "python",
   "nbconvert_exporter": "python",
   "pygments_lexer": "ipython3",
   "version": "3.9.10"
  }
 },
 "nbformat": 4,
 "nbformat_minor": 5
}
