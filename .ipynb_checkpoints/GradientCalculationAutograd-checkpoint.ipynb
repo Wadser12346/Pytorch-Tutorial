{
 "cells": [
  {
   "cell_type": "markdown",
   "id": "8342c225-88f5-43b3-b039-e306bf394717",
   "metadata": {},
   "source": [
    "Gradients are essential for all optimizations. Autograd is a built in gradient calculator for pytorch."
   ]
  },
  {
   "cell_type": "code",
   "execution_count": 1,
   "id": "24a404b4-ef1a-492c-9d68-d88a6463bb97",
   "metadata": {},
   "outputs": [],
   "source": [
    "import torch as tc"
   ]
  },
  {
   "cell_type": "code",
   "execution_count": 2,
   "id": "71f672e3-f812-49bc-9048-659ca2ecbc18",
   "metadata": {},
   "outputs": [
    {
     "data": {
      "text/plain": [
       "tensor([-1.7552,  0.2298,  0.4503], requires_grad=True)"
      ]
     },
     "execution_count": 2,
     "metadata": {},
     "output_type": "execute_result"
    }
   ],
   "source": [
    "# randn gives a random from a normal distribution with mean 0 and sd 1\n",
    "x = tc.randn(3, requires_grad=True)\n",
    "x"
   ]
  },
  {
   "cell_type": "code",
   "execution_count": 3,
   "id": "2374fb29-ad81-4881-ab7d-d2a430b62553",
   "metadata": {},
   "outputs": [
    {
     "data": {
      "text/plain": [
       "tensor([0.2448, 2.2298, 2.4503], grad_fn=<AddBackward0>)"
      ]
     },
     "execution_count": 3,
     "metadata": {},
     "output_type": "execute_result"
    }
   ],
   "source": [
    "y = x + 2\n",
    "y"
   ]
  },
  {
   "cell_type": "markdown",
   "id": "90c8c141-5f81-4c03-a03f-2fb65cf4a892",
   "metadata": {},
   "source": [
    "![Backpropagation Diagram](Data/Images/diagram_backprop.png \"Backpropagation Diagram\")"
   ]
  },
  {
   "cell_type": "markdown",
   "id": "fd3f39cd-9297-4a78-b904-c8b3e87fecd4",
   "metadata": {},
   "source": [
    "PyTorch will create a gradient function and apply it automatically during back propagation."
   ]
  },
  {
   "cell_type": "code",
   "execution_count": 4,
   "id": "985c25d9-9255-42bb-9fee-815bebc7bbf1",
   "metadata": {},
   "outputs": [
    {
     "data": {
      "text/plain": [
       "tensor([ 0.1198,  9.9440, 12.0078], grad_fn=<MulBackward0>)"
      ]
     },
     "execution_count": 4,
     "metadata": {},
     "output_type": "execute_result"
    }
   ],
   "source": [
    "z = y * y * 2\n",
    "z"
   ]
  },
  {
   "cell_type": "code",
   "execution_count": 5,
   "id": "15880649-7655-4bfb-a67e-564cf98ccf5d",
   "metadata": {},
   "outputs": [
    {
     "data": {
      "text/plain": [
       "tensor(7.3572, grad_fn=<MeanBackward0>)"
      ]
     },
     "execution_count": 5,
     "metadata": {},
     "output_type": "execute_result"
    }
   ],
   "source": [
    "z = z.mean()\n",
    "z"
   ]
  },
  {
   "cell_type": "code",
   "execution_count": 6,
   "id": "e6f5962c-e7aa-4bcf-8226-eda0d9b7778a",
   "metadata": {},
   "outputs": [],
   "source": [
    "# Calculate the gradient for z with respect to x. dz/dx\n",
    "z.backward()"
   ]
  },
  {
   "cell_type": "code",
   "execution_count": 7,
   "id": "14699523-1a15-4f10-bf13-7a566b23eca4",
   "metadata": {},
   "outputs": [
    {
     "data": {
      "text/plain": [
       "tensor([0.3264, 2.9731, 3.2670])"
      ]
     },
     "execution_count": 7,
     "metadata": {},
     "output_type": "execute_result"
    }
   ],
   "source": [
    "# To see gradients stored\n",
    "x.grad"
   ]
  },
  {
   "cell_type": "markdown",
   "id": "d645c4f8-859f-4593-9014-726a7f7272dd",
   "metadata": {},
   "source": [
    "In the background, this uses a Vector-Jacobian function to calculate the gradient."
   ]
  }
 ],
 "metadata": {
  "kernelspec": {
   "display_name": "Python 3 (ipykernel)",
   "language": "python",
   "name": "python3"
  },
  "language_info": {
   "codemirror_mode": {
    "name": "ipython",
    "version": 3
   },
   "file_extension": ".py",
   "mimetype": "text/x-python",
   "name": "python",
   "nbconvert_exporter": "python",
   "pygments_lexer": "ipython3",
   "version": "3.9.10"
  }
 },
 "nbformat": 4,
 "nbformat_minor": 5
}
