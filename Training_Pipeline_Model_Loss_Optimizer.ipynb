{
 "cells": [
  {
   "cell_type": "markdown",
   "id": "dda1c50f-85a5-4c41-9fee-2b773a2dde44",
   "metadata": {},
   "source": [
    "#### 1) Design Model (input, output size, forward pass)\n",
    "#### 2) Construct Loss and Optimizer\n",
    "#### 3) Training Loop\n",
    "##### Forward Pass: Compute prediction\n",
    "##### Backward Pass: Gradients"
   ]
  },
  {
   "cell_type": "code",
   "execution_count": 8,
   "id": "fcdecfb6-d1ce-435e-9798-b32e5ac1f9f7",
   "metadata": {},
   "outputs": [
    {
     "name": "stdout",
     "output_type": "stream",
     "text": [
      "Prediction before training f(5): -3.7518234252929688\n",
      "Epoch 0: w = -0.052, loss = 53.91109085\n",
      "Epoch 100: w = 1.751, loss = 0.09079546\n",
      "Epoch 200: w = 1.863, loss = 0.02731529\n",
      "Epoch 300: w = 1.925, loss = 0.00821767\n",
      "Epoch 400: w = 1.959, loss = 0.00247225\n",
      "Epoch 500: w = 1.977, loss = 0.00074376\n",
      "Epoch 600: w = 1.988, loss = 0.00022376\n",
      "Epoch 700: w = 1.993, loss = 0.00006731\n",
      "Epoch 800: w = 1.996, loss = 0.00002025\n",
      "Epoch 900: w = 1.998, loss = 0.00000609\n",
      "Prediction after training f(5): 9.998\n"
     ]
    }
   ],
   "source": [
    "import torch as tc\n",
    "import torch.nn as nn\n",
    "\n",
    "# f = w * x\n",
    "# f = 2 * x\n",
    "\n",
    "X = tc.tensor([[1],[2],[3],[4]],dtype=tc.float32)\n",
    "Y = tc.tensor([[2],[4],[6],[8]],dtype=tc.float32)\n",
    "X_test = tc.tensor([5],dtype=tc.float32)\n",
    "\n",
    "n_samples, n_features = X.shape\n",
    "input_size = n_features\n",
    "output_size = n_features\n",
    "\n",
    "model = nn.Linear(input_size,output_size)\n",
    "\n",
    "# Prediction before training\n",
    "print(f'Prediction before training f(5): {model(X_test).item()}')\n",
    "\n",
    "# Training\n",
    "learning_rate = 0.02\n",
    "n_iterations = 1000\n",
    "\n",
    "loss = nn.MSELoss()\n",
    "optimizer = tc.optim.SGD(model.parameters(), lr = learning_rate)\n",
    "\n",
    "# Training Loop\n",
    "for epoch in range(n_iterations):\n",
    "    # prediction = forward pass\n",
    "    y_pred = model(X)\n",
    "    \n",
    "    # loss\n",
    "    l = loss(Y,y_pred)\n",
    "    \n",
    "    # gradient = backward_pass\n",
    "    l.backward() #dl/dw\n",
    "    \n",
    "    # Call optimizer\n",
    "    optimizer.step()\n",
    "        \n",
    "    # zero gradients again before repeat\n",
    "    optimizer.zero_grad()\n",
    "    \n",
    "    if epoch % 100 == 0:\n",
    "        [w,bias] = model.parameters()\n",
    "        print(f'Epoch {epoch}: w = {w[0][0].item():.3f}, loss = {l:.8f}')\n",
    "        \n",
    "# Prediction after training\n",
    "print(f'Prediction after training f(5): {model(X_test).item():.3f}')"
   ]
  },
  {
   "cell_type": "markdown",
   "id": "c990a32b-0693-4ba3-843f-22dfc52d9972",
   "metadata": {},
   "source": [
    "#### With Custom Linear Regression Model"
   ]
  },
  {
   "cell_type": "code",
   "execution_count": 10,
   "id": "90d5060e-828f-460f-b45c-5d541b63ff44",
   "metadata": {},
   "outputs": [
    {
     "name": "stdout",
     "output_type": "stream",
     "text": [
      "Prediction before training f(5): 0.9046279191970825\n",
      "Epoch 0: w = 0.927, loss = 28.06511307\n",
      "Epoch 100: w = 2.045, loss = 0.00301248\n",
      "Epoch 200: w = 2.025, loss = 0.00090629\n",
      "Epoch 300: w = 2.014, loss = 0.00027265\n",
      "Epoch 400: w = 2.007, loss = 0.00008203\n",
      "Epoch 500: w = 2.004, loss = 0.00002468\n",
      "Epoch 600: w = 2.002, loss = 0.00000742\n",
      "Epoch 700: w = 2.001, loss = 0.00000223\n",
      "Epoch 800: w = 2.001, loss = 0.00000067\n",
      "Epoch 900: w = 2.000, loss = 0.00000020\n",
      "Prediction after training f(5): 10.000\n"
     ]
    }
   ],
   "source": [
    "import torch as tc\n",
    "import torch.nn as nn\n",
    "\n",
    "# f = w * x\n",
    "# f = 2 * x\n",
    "\n",
    "X = tc.tensor([[1],[2],[3],[4]],dtype=tc.float32)\n",
    "Y = tc.tensor([[2],[4],[6],[8]],dtype=tc.float32)\n",
    "X_test = tc.tensor([5],dtype=tc.float32)\n",
    "\n",
    "n_samples, n_features = X.shape\n",
    "input_size = n_features\n",
    "output_size = n_features\n",
    "\n",
    "class LinearRegression(nn.Module):\n",
    "    \n",
    "    def __init__(self, input_dim, output_dim):\n",
    "        super(LinearRegression, self).__init__()\n",
    "        # Define Layers\n",
    "        self.lin = nn.Linear(input_dim, output_dim)\n",
    "    \n",
    "    def forward(self, x):\n",
    "        return self.lin(x)\n",
    "\n",
    "model = LinearRegression(input_size,output_size)\n",
    "\n",
    "\n",
    "# Prediction before training\n",
    "print(f'Prediction before training f(5): {model(X_test).item()}')\n",
    "\n",
    "# Training\n",
    "learning_rate = 0.02\n",
    "n_iterations = 1000\n",
    "\n",
    "loss = nn.MSELoss()\n",
    "optimizer = tc.optim.SGD(model.parameters(), lr = learning_rate)\n",
    "\n",
    "# Training Loop\n",
    "for epoch in range(n_iterations):\n",
    "    # prediction = forward pass\n",
    "    y_pred = model(X)\n",
    "    \n",
    "    # loss\n",
    "    l = loss(Y,y_pred)\n",
    "    \n",
    "    # gradient = backward_pass\n",
    "    l.backward() #dl/dw\n",
    "    \n",
    "    # Call optimizer\n",
    "    optimizer.step()\n",
    "        \n",
    "    # zero gradients again before repeat\n",
    "    optimizer.zero_grad()\n",
    "    \n",
    "    if epoch % 100 == 0:\n",
    "        [w,bias] = model.parameters()\n",
    "        print(f'Epoch {epoch}: w = {w[0][0].item():.3f}, loss = {l:.8f}')\n",
    "        \n",
    "# Prediction after training\n",
    "print(f'Prediction after training f(5): {model(X_test).item():.3f}')"
   ]
  },
  {
   "cell_type": "code",
   "execution_count": null,
   "id": "1e66707b-3442-4574-ba19-2e3d38384469",
   "metadata": {},
   "outputs": [],
   "source": []
  }
 ],
 "metadata": {
  "kernelspec": {
   "display_name": "Python 3 (ipykernel)",
   "language": "python",
   "name": "python3"
  },
  "language_info": {
   "codemirror_mode": {
    "name": "ipython",
    "version": 3
   },
   "file_extension": ".py",
   "mimetype": "text/x-python",
   "name": "python",
   "nbconvert_exporter": "python",
   "pygments_lexer": "ipython3",
   "version": "3.9.10"
  }
 },
 "nbformat": 4,
 "nbformat_minor": 5
}
