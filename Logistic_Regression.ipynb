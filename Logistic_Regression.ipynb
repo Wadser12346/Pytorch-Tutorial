{
 "cells": [
  {
   "cell_type": "markdown",
   "id": "ae58c8c4-9bb4-4e8a-b6b4-2656aad7afed",
   "metadata": {},
   "source": [
    "#### 1) Design Model (input, output size, forward pass)\n",
    "#### 2) Construct Loss and Optimizer\n",
    "#### 3) Training Loop\n",
    "##### Forward Pass: Compute prediction\n",
    "##### Backward Pass: Gradients"
   ]
  },
  {
   "cell_type": "code",
   "execution_count": 14,
   "id": "fcdecfb6-d1ce-435e-9798-b32e5ac1f9f7",
   "metadata": {},
   "outputs": [],
   "source": [
    "import torch as tc\n",
    "import torch.nn as nn\n",
    "import numpy as np\n",
    "from sklearn import datasets\n",
    "from sklearn.preprocessing import StandardScaler\n",
    "from sklearn.model_selection import train_test_split"
   ]
  },
  {
   "cell_type": "markdown",
   "id": "0ba3454d-aec3-440a-8557-d670e0fd6d9d",
   "metadata": {},
   "source": [
    "##### 0) Prepare Data"
   ]
  },
  {
   "cell_type": "code",
   "execution_count": 15,
   "id": "037481e9-73d1-46d5-b74b-c82e35c71e2a",
   "metadata": {},
   "outputs": [
    {
     "name": "stdout",
     "output_type": "stream",
     "text": [
      "569\n",
      "30\n"
     ]
    }
   ],
   "source": [
    "bc = datasets.load_breast_cancer()\n",
    "X = bc.data\n",
    "y = bc.target\n",
    "\n",
    "n_samples, n_features = X.shape\n",
    "print(n_samples)\n",
    "print(n_features)"
   ]
  },
  {
   "cell_type": "code",
   "execution_count": 16,
   "id": "56733208-99c4-4265-9390-521555034086",
   "metadata": {},
   "outputs": [],
   "source": [
    "X_train, X_test, y_train, y_test = train_test_split(X,y,test_size=0.2,random_state=1234)\n",
    "\n",
    "# Scale\n",
    "sc = StandardScaler() # gives features 0 mean and 1 std_dev\n",
    "X_train = sc.fit_transform(X_train)\n",
    "X_test = sc.transform(X_test)\n",
    "\n",
    "X_train = tc.from_numpy(X_train.astype(np.float32))\n",
    "X_test = tc.from_numpy(X_test.astype(np.float32))\n",
    "y_train = tc.from_numpy(y_train.astype(np.float32))\n",
    "y_test = tc.from_numpy(y_test.astype(np.float32))\n",
    "\n",
    "y_train = y_train.view(y_train.shape[0], 1)\n",
    "y_test = y_test.view(y_test.shape[0], 1)"
   ]
  },
  {
   "cell_type": "markdown",
   "id": "facb3cc6-b1f8-4697-9834-482812322475",
   "metadata": {},
   "source": [
    "##### 1) Model\n",
    "###### f = wx + b, sigmoid at the end"
   ]
  },
  {
   "cell_type": "code",
   "execution_count": 17,
   "id": "78740e30-1e7b-4a74-b4e8-99d11fa36710",
   "metadata": {},
   "outputs": [],
   "source": [
    "class LogisticRegression(nn.Module):\n",
    "    \n",
    "    def __init__(self, n_input_features):\n",
    "        super(LogisticRegression, self).__init__()\n",
    "        self.linear = nn.Linear(n_input_features, 1)\n",
    "        \n",
    "    def forward(self, x):\n",
    "        y_predicted = tc.sigmoid(self.linear(x))\n",
    "        return y_predicted"
   ]
  },
  {
   "cell_type": "code",
   "execution_count": 18,
   "id": "b4dead88-5072-4a76-94ab-156cf79f631b",
   "metadata": {},
   "outputs": [],
   "source": [
    "model = LogisticRegression(n_features)"
   ]
  },
  {
   "cell_type": "markdown",
   "id": "2281594f-c693-401b-b68f-a784f2592781",
   "metadata": {},
   "source": [
    "##### 2) Loss and Optimizer"
   ]
  },
  {
   "cell_type": "code",
   "execution_count": 19,
   "id": "d451954e-d691-4f30-bbd1-c08e2f3eae9c",
   "metadata": {},
   "outputs": [],
   "source": [
    "learning_rate = 0.01\n",
    "criterion = nn.BCELoss()\n",
    "optimizer = tc.optim.SGD(model.parameters(),lr=learning_rate)"
   ]
  },
  {
   "cell_type": "markdown",
   "id": "7dccec0c-55ad-4cd7-9864-4cb003520efe",
   "metadata": {},
   "source": [
    "##### 3) Training Loop"
   ]
  },
  {
   "cell_type": "code",
   "execution_count": 20,
   "id": "5806c14e-f8ef-4560-8d62-7a295ee8dd31",
   "metadata": {},
   "outputs": [
    {
     "name": "stdout",
     "output_type": "stream",
     "text": [
      "epoch 10, loss = 0.4817\n",
      "epoch 20, loss = 0.4185\n",
      "epoch 30, loss = 0.3741\n",
      "epoch 40, loss = 0.3410\n",
      "epoch 50, loss = 0.3152\n",
      "epoch 60, loss = 0.2944\n",
      "epoch 70, loss = 0.2771\n",
      "epoch 80, loss = 0.2626\n",
      "epoch 90, loss = 0.2502\n",
      "epoch 100, loss = 0.2394\n"
     ]
    }
   ],
   "source": [
    "n_epochs = 100\n",
    "for epoch in range(n_epochs):\n",
    "    # Forward pass and loss\n",
    "    y_pred = model(X_train)\n",
    "    loss = criterion(y_pred, y_train)\n",
    "    \n",
    "    # Backward pass\n",
    "    loss.backward()\n",
    "    \n",
    "    # Update\n",
    "    optimizer.step()\n",
    "    \n",
    "    # Zero out gradients before next iteration\n",
    "    optimizer.zero_grad()\n",
    "    \n",
    "    if (epoch+1) % 10 == 0:\n",
    "        print(f'epoch {epoch + 1}, loss = {loss.item():.4f}')"
   ]
  },
  {
   "cell_type": "code",
   "execution_count": 21,
   "id": "955e242f-2f11-4dc0-a3a4-c91236b9a3cc",
   "metadata": {},
   "outputs": [
    {
     "name": "stdout",
     "output_type": "stream",
     "text": [
      "accuracy = 0.9035\n"
     ]
    }
   ],
   "source": [
    "with tc.no_grad():\n",
    "    y_predicted = model(X_test)\n",
    "    y_predicted_classes = y_predicted.round()\n",
    "    acc = y_predicted_classes.eq(y_test).sum() / float(y_test.shape[0])\n",
    "    print(f'accuracy = {acc:.4f}')"
   ]
  },
  {
   "cell_type": "code",
   "execution_count": null,
   "id": "d3b008dc-19f5-48e9-9a28-b53d4aae422c",
   "metadata": {},
   "outputs": [],
   "source": []
  }
 ],
 "metadata": {
  "kernelspec": {
   "display_name": "Python 3 (ipykernel)",
   "language": "python",
   "name": "python3"
  },
  "language_info": {
   "codemirror_mode": {
    "name": "ipython",
    "version": 3
   },
   "file_extension": ".py",
   "mimetype": "text/x-python",
   "name": "python",
   "nbconvert_exporter": "python",
   "pygments_lexer": "ipython3",
   "version": "3.9.10"
  }
 },
 "nbformat": 4,
 "nbformat_minor": 5
}
