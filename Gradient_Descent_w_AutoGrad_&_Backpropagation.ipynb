{
 "cells": [
  {
   "cell_type": "markdown",
   "id": "3aad4d3f-bfa8-4c76-9e1e-ecd47ba375ec",
   "metadata": {},
   "source": [
    "# Using numpy"
   ]
  },
  {
   "cell_type": "code",
   "execution_count": null,
   "id": "c6019348-dfe0-4082-84b4-66ed5d821a1e",
   "metadata": {},
   "outputs": [],
   "source": [
    "import numpy as np\n",
    "\n",
    "# f = w * x\n",
    "# f = 2 * x\n",
    "\n",
    "X = np.array([1,2,3,4],dtype=np.float32)\n",
    "Y = np.array([2,4,6,8],dtype=np.float32)\n",
    "\n",
    "w = 0.0\n",
    "\n",
    "# model prediction\n",
    "def forward(x):\n",
    "    return w * x\n",
    "\n",
    "# loss = MSE\n",
    "def loss(y, y_predicted):\n",
    "    return ((y_predicted - y)**2).mean()\n",
    "\n",
    "# gradient\n",
    "# MSE = 1/N * (w*x - y)**2\n",
    "#dJ/dw = 1/N  2x  (w*x - y)\n",
    "def gradient(x,y, y_predicted):\n",
    "    return np.dot(2 * x, y_predicted - y).mean()\n",
    "\n",
    "# Prediction before training\n",
    "print(f'Prediction before training: {forward(5)}')\n",
    "\n",
    "# Training\n",
    "learning_rate = 0.01\n",
    "n_iterations = 20\n",
    "\n",
    "# Training Loop\n",
    "for epoch in range(n_iterations):\n",
    "    # prediction = forward pass\n",
    "    y_pred = forward(X)\n",
    "    \n",
    "    # loss\n",
    "    l = loss(Y,y_pred)\n",
    "    \n",
    "    # gradients\n",
    "    dw = gradient(X, Y, y_pred)\n",
    "    \n",
    "    # update weights\n",
    "    w -= learning_rate * dw\n",
    "    \n",
    "    if epoch % 2 == 0:\n",
    "        print(f'Epoch {epoch}: w = {w:.3f}, loss = {l:.8f}')\n",
    "        \n",
    "# Prediction after training\n",
    "print(f'Prediction after training: {forward(5):.3f}')"
   ]
  },
  {
   "cell_type": "markdown",
   "id": "80d80dbd-d86a-4d80-a5e7-32b96d356e0b",
   "metadata": {},
   "source": [
    "# Using pytorch"
   ]
  },
  {
   "cell_type": "code",
   "execution_count": 12,
   "id": "5b7ffd93-d1fc-4be6-ae05-9ebee8517107",
   "metadata": {},
   "outputs": [
    {
     "name": "stdout",
     "output_type": "stream",
     "text": [
      "Prediction before training: 0.0\n",
      "Epoch 0: w = 0.300, loss = 30.00000000\n",
      "Epoch 10: w = 1.665, loss = 1.16278565\n",
      "Epoch 20: w = 1.934, loss = 0.04506890\n",
      "Epoch 30: w = 1.987, loss = 0.00174685\n",
      "Epoch 40: w = 1.997, loss = 0.00006770\n",
      "Epoch 50: w = 1.999, loss = 0.00000262\n",
      "Epoch 60: w = 2.000, loss = 0.00000010\n",
      "Epoch 70: w = 2.000, loss = 0.00000000\n",
      "Epoch 80: w = 2.000, loss = 0.00000000\n",
      "Epoch 90: w = 2.000, loss = 0.00000000\n",
      "Prediction after training: 10.000\n"
     ]
    }
   ],
   "source": [
    "import torch as tc\n",
    "\n",
    "# f = w * x\n",
    "# f = 2 * x\n",
    "\n",
    "X = tc.tensor([1,2,3,4],dtype=tc.float32)\n",
    "Y = tc.tensor([2,4,6,8],dtype=tc.float32)\n",
    "\n",
    "w = tc.tensor(0.0,dtype=tc.float32, requires_grad=True)\n",
    "\n",
    "# model prediction\n",
    "def forward(x):\n",
    "    return w * x\n",
    "\n",
    "# loss = MSE\n",
    "def loss(y, y_predicted):\n",
    "    return ((y_predicted - y)**2).mean()\n",
    "\n",
    "# Prediction before training\n",
    "print(f'Prediction before training: {forward(5)}')\n",
    "\n",
    "# Training\n",
    "learning_rate = 0.01\n",
    "n_iterations = 100\n",
    "\n",
    "# Training Loop\n",
    "for epoch in range(n_iterations):\n",
    "    # prediction = forward pass\n",
    "    y_pred = forward(X)\n",
    "    \n",
    "    # loss\n",
    "    l = loss(Y,y_pred)\n",
    "    \n",
    "    # gradient = backward_pass\n",
    "    l.backward() #dl/dw\n",
    "    \n",
    "    # update weights, do not include in gradient calculation\n",
    "    with tc.no_grad():\n",
    "        w -= learning_rate * w.grad\n",
    "        \n",
    "    # zero gradients again before repeat\n",
    "    w.grad.zero_()\n",
    "    \n",
    "    if epoch % 10 == 0:\n",
    "        print(f'Epoch {epoch}: w = {w:.3f}, loss = {l:.8f}')\n",
    "        \n",
    "# Prediction after training\n",
    "print(f'Prediction after training: {forward(5):.3f}')"
   ]
  },
  {
   "cell_type": "code",
   "execution_count": null,
   "id": "478424d2-bccc-499b-aa36-8ac128298b69",
   "metadata": {},
   "outputs": [],
   "source": []
  }
 ],
 "metadata": {
  "kernelspec": {
   "display_name": "Python 3 (ipykernel)",
   "language": "python",
   "name": "python3"
  },
  "language_info": {
   "codemirror_mode": {
    "name": "ipython",
    "version": 3
   },
   "file_extension": ".py",
   "mimetype": "text/x-python",
   "name": "python",
   "nbconvert_exporter": "python",
   "pygments_lexer": "ipython3",
   "version": "3.9.10"
  }
 },
 "nbformat": 4,
 "nbformat_minor": 5
}
