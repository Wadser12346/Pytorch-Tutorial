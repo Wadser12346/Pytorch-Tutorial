{
 "cells": [
  {
   "cell_type": "markdown",
   "id": "d5c5e3c6-bbdd-4801-b078-8ca9cb03b8be",
   "metadata": {},
   "source": [
    "Link to Lesson: https://www.youtube.com/watch?v=exaWOE8jvy8&list=PLqnslRFeH2UrcDBWF5mfPGpqQDSta6VK4&index=2"
   ]
  },
  {
   "cell_type": "code",
   "execution_count": 33,
   "id": "b07c89c9-b3b9-40bb-8750-8d61c652b4af",
   "metadata": {},
   "outputs": [],
   "source": [
    "import torch as tc"
   ]
  },
  {
   "cell_type": "code",
   "execution_count": 7,
   "id": "c303da66-0be0-4435-a44e-2a02db133d15",
   "metadata": {},
   "outputs": [
    {
     "data": {
      "text/plain": [
       "tensor([0., 0., 0.])"
      ]
     },
     "execution_count": 7,
     "metadata": {},
     "output_type": "execute_result"
    }
   ],
   "source": [
    "# 1D vector with 3 elements\n",
    "x = tc.empty(3)\n",
    "x"
   ]
  },
  {
   "cell_type": "code",
   "execution_count": 8,
   "id": "2b5b2542-f7dc-4b72-8895-5c9ad1f72387",
   "metadata": {},
   "outputs": [
    {
     "data": {
      "text/plain": [
       "tensor([[0., 0., 0.],\n",
       "        [0., 0., 0.]])"
      ]
     },
     "execution_count": 8,
     "metadata": {},
     "output_type": "execute_result"
    }
   ],
   "source": [
    "# 2D matrix 2 x 3\n",
    "x = tc.empty(2, 3)\n",
    "x"
   ]
  },
  {
   "cell_type": "markdown",
   "id": "5327607a-46d1-43c1-854c-7403fdf781ca",
   "metadata": {},
   "source": [
    "Can list as many dimensions as you want."
   ]
  },
  {
   "cell_type": "code",
   "execution_count": 9,
   "id": "70bb0ee0-6a28-40cf-a9aa-e83a5ff66af5",
   "metadata": {},
   "outputs": [
    {
     "data": {
      "text/plain": [
       "tensor([[0., 0., 0.],\n",
       "        [0., 0., 0.]])"
      ]
     },
     "execution_count": 9,
     "metadata": {},
     "output_type": "execute_result"
    }
   ],
   "source": [
    "# 2D matrix 2 x 3 filled with zeroes\n",
    "x = tc.zeros(2, 3)\n",
    "x"
   ]
  },
  {
   "cell_type": "code",
   "execution_count": 10,
   "id": "cdcb52e3-51f5-4793-948b-a3665d197874",
   "metadata": {},
   "outputs": [
    {
     "data": {
      "text/plain": [
       "tensor([[1., 1., 1.],\n",
       "        [1., 1., 1.]])"
      ]
     },
     "execution_count": 10,
     "metadata": {},
     "output_type": "execute_result"
    }
   ],
   "source": [
    "# 2D matrix 2 x 3 filled with ones\n",
    "x = tc.ones(2, 3)\n",
    "x"
   ]
  },
  {
   "cell_type": "code",
   "execution_count": 11,
   "id": "b32854d4-21e0-4e6f-9be0-ba5b322bf9b4",
   "metadata": {},
   "outputs": [
    {
     "data": {
      "text/plain": [
       "torch.float32"
      ]
     },
     "execution_count": 11,
     "metadata": {},
     "output_type": "execute_result"
    }
   ],
   "source": [
    "# Check type\n",
    "x.dtype"
   ]
  },
  {
   "cell_type": "code",
   "execution_count": 12,
   "id": "91af4b21-4a65-4498-bf87-aeddf173d653",
   "metadata": {},
   "outputs": [
    {
     "data": {
      "text/plain": [
       "tensor([[1., 1., 1.],\n",
       "        [1., 1., 1.]], dtype=torch.float64)"
      ]
     },
     "execution_count": 12,
     "metadata": {},
     "output_type": "execute_result"
    }
   ],
   "source": [
    "# Set type on initiation\n",
    "# 2D matrix 2 x 3 filled with ones\n",
    "x = tc.ones(2, 3, dtype=tc.double)\n",
    "x"
   ]
  },
  {
   "cell_type": "code",
   "execution_count": 13,
   "id": "ee6ce0c8-aa24-497b-9dc5-296537a014e1",
   "metadata": {},
   "outputs": [
    {
     "data": {
      "text/plain": [
       "torch.float64"
      ]
     },
     "execution_count": 13,
     "metadata": {},
     "output_type": "execute_result"
    }
   ],
   "source": [
    "x.dtype"
   ]
  },
  {
   "cell_type": "code",
   "execution_count": 14,
   "id": "88ae27f5-89ca-4deb-9b48-4ca01fbf962a",
   "metadata": {},
   "outputs": [
    {
     "data": {
      "text/plain": [
       "tensor([2.5000, 0.1000])"
      ]
     },
     "execution_count": 14,
     "metadata": {},
     "output_type": "execute_result"
    }
   ],
   "source": [
    "# Create Tensor\n",
    "x = tc.tensor([2.5,0.1])\n",
    "x"
   ]
  },
  {
   "cell_type": "code",
   "execution_count": 15,
   "id": "fbf593ba-4bb1-49e8-82b7-3b3175652f10",
   "metadata": {},
   "outputs": [
    {
     "name": "stdout",
     "output_type": "stream",
     "text": [
      "tensor([[0.9613, 0.5407],\n",
      "        [0.4901, 0.2296]])\n",
      "tensor([[0.1352, 0.1090],\n",
      "        [0.4880, 0.8422]])\n"
     ]
    },
    {
     "data": {
      "text/plain": [
       "tensor([[1.0965, 0.6497],\n",
       "        [0.9780, 1.0718]])"
      ]
     },
     "execution_count": 15,
     "metadata": {},
     "output_type": "execute_result"
    }
   ],
   "source": [
    "# Arithmetic\n",
    "x = tc.rand(2,2)\n",
    "y = tc.rand(2,2)\n",
    "print(x)\n",
    "print(y)\n",
    "z = x + y\n",
    "z"
   ]
  },
  {
   "cell_type": "code",
   "execution_count": 16,
   "id": "87cea90c-e413-475e-9ed2-f2247e747054",
   "metadata": {},
   "outputs": [
    {
     "data": {
      "text/plain": [
       "tensor([[1.0965, 0.6497],\n",
       "        [0.9780, 1.0718]])"
      ]
     },
     "execution_count": 16,
     "metadata": {},
     "output_type": "execute_result"
    }
   ],
   "source": [
    "# Inplace addition\n",
    "z = tc.add(x,y)\n",
    "z"
   ]
  },
  {
   "cell_type": "code",
   "execution_count": 17,
   "id": "66f69913-9c8d-41df-b54a-5d068700efe4",
   "metadata": {},
   "outputs": [
    {
     "data": {
      "text/plain": [
       "tensor([[0.1300, 0.0589],\n",
       "        [0.2391, 0.1934]])"
      ]
     },
     "execution_count": 17,
     "metadata": {},
     "output_type": "execute_result"
    }
   ],
   "source": [
    "# Multiplication\n",
    "z = tc.mul(x,y)\n",
    "z"
   ]
  },
  {
   "cell_type": "code",
   "execution_count": 18,
   "id": "d0e08850-78fe-401d-bcdc-98da88019d76",
   "metadata": {},
   "outputs": [
    {
     "data": {
      "text/plain": [
       "tensor([[0.1300, 0.0589],\n",
       "        [0.2391, 0.1934]])"
      ]
     },
     "execution_count": 18,
     "metadata": {},
     "output_type": "execute_result"
    }
   ],
   "source": [
    "# Multiplication\n",
    "z = x * y\n",
    "z"
   ]
  },
  {
   "cell_type": "code",
   "execution_count": 19,
   "id": "4e5a3ab9-647e-4f7a-891f-1eb5e94ce66c",
   "metadata": {},
   "outputs": [
    {
     "data": {
      "text/plain": [
       "tensor([[7.1091, 4.9624],\n",
       "        [1.0044, 0.2726]])"
      ]
     },
     "execution_count": 19,
     "metadata": {},
     "output_type": "execute_result"
    }
   ],
   "source": [
    "# Division\n",
    "z = tc.div(x,y)\n",
    "z"
   ]
  },
  {
   "cell_type": "code",
   "execution_count": 20,
   "id": "c4eab803-ec0f-4cad-89b8-d17c624c6c84",
   "metadata": {},
   "outputs": [
    {
     "data": {
      "text/plain": [
       "tensor([[7.1091, 4.9624],\n",
       "        [1.0044, 0.2726]])"
      ]
     },
     "execution_count": 20,
     "metadata": {},
     "output_type": "execute_result"
    }
   ],
   "source": [
    "# Division\n",
    "z = x / y\n",
    "z"
   ]
  },
  {
   "cell_type": "code",
   "execution_count": 22,
   "id": "245d3aa1-276f-46ff-bbe8-6d9d7babcac7",
   "metadata": {},
   "outputs": [
    {
     "data": {
      "text/plain": [
       "tensor([[0.4749, 0.5510, 0.0300],\n",
       "        [0.6482, 0.0953, 0.6088],\n",
       "        [0.2324, 0.3983, 0.6198],\n",
       "        [0.1233, 0.5497, 0.0504],\n",
       "        [0.3171, 0.3273, 0.6754]])"
      ]
     },
     "execution_count": 22,
     "metadata": {},
     "output_type": "execute_result"
    }
   ],
   "source": [
    "# Slicing\n",
    "x = tc.rand(5,3)\n",
    "x"
   ]
  },
  {
   "cell_type": "code",
   "execution_count": 23,
   "id": "53c51d62-bcf6-4361-b4b3-7977b2586952",
   "metadata": {},
   "outputs": [
    {
     "data": {
      "text/plain": [
       "tensor([0.4749, 0.6482, 0.2324, 0.1233, 0.3171])"
      ]
     },
     "execution_count": 23,
     "metadata": {},
     "output_type": "execute_result"
    }
   ],
   "source": [
    "x[:,0]"
   ]
  },
  {
   "cell_type": "markdown",
   "id": "925527ab-c3d8-4bf8-a9d5-9e71c322162a",
   "metadata": {},
   "source": [
    "Getting values from slice"
   ]
  },
  {
   "cell_type": "code",
   "execution_count": 24,
   "id": "75a314a5-6cbc-4780-84d9-2143bc516d9e",
   "metadata": {},
   "outputs": [
    {
     "data": {
      "text/plain": [
       "tensor(0.0953)"
      ]
     },
     "execution_count": 24,
     "metadata": {},
     "output_type": "execute_result"
    }
   ],
   "source": [
    "x[1,1]"
   ]
  },
  {
   "cell_type": "code",
   "execution_count": 25,
   "id": "83ce17f3-5e52-46be-8b82-6a85af7c44b5",
   "metadata": {},
   "outputs": [
    {
     "data": {
      "text/plain": [
       "0.09530937671661377"
      ]
     },
     "execution_count": 25,
     "metadata": {},
     "output_type": "execute_result"
    }
   ],
   "source": [
    "# Can only use if there is only 1 item in tensor\n",
    "x[1,1].item()"
   ]
  },
  {
   "cell_type": "code",
   "execution_count": 27,
   "id": "28ca1b98-5add-4fc3-85b8-cbe3a17507ca",
   "metadata": {},
   "outputs": [
    {
     "data": {
      "text/plain": [
       "tensor([[0.2044, 0.1292, 0.3150, 0.4918],\n",
       "        [0.2039, 0.6464, 0.5271, 0.4352],\n",
       "        [0.7227, 0.3436, 0.7638, 0.3245],\n",
       "        [0.6408, 0.0920, 0.5512, 0.3820]])"
      ]
     },
     "execution_count": 27,
     "metadata": {},
     "output_type": "execute_result"
    }
   ],
   "source": [
    "# Reshaping\n",
    "x = tc.rand(4,4)\n",
    "x"
   ]
  },
  {
   "cell_type": "code",
   "execution_count": 30,
   "id": "f82dbf10-7827-4069-8200-52c9cfa191ea",
   "metadata": {},
   "outputs": [
    {
     "data": {
      "text/plain": [
       "tensor([0.2044, 0.1292, 0.3150, 0.4918, 0.2039, 0.6464, 0.5271, 0.4352, 0.7227,\n",
       "        0.3436, 0.7638, 0.3245, 0.6408, 0.0920, 0.5512, 0.3820])"
      ]
     },
     "execution_count": 30,
     "metadata": {},
     "output_type": "execute_result"
    }
   ],
   "source": [
    "# Elements specified must be the same\n",
    "y = x.view(16)\n",
    "y"
   ]
  },
  {
   "cell_type": "code",
   "execution_count": 31,
   "id": "dc57fe3c-5158-4012-8b90-f1a9f5b943b2",
   "metadata": {},
   "outputs": [
    {
     "data": {
      "text/plain": [
       "tensor([[0.2044, 0.1292, 0.3150, 0.4918, 0.2039, 0.6464, 0.5271, 0.4352],\n",
       "        [0.7227, 0.3436, 0.7638, 0.3245, 0.6408, 0.0920, 0.5512, 0.3820]])"
      ]
     },
     "execution_count": 31,
     "metadata": {},
     "output_type": "execute_result"
    }
   ],
   "source": [
    "# Elements specified must be the same, can make it non specific\n",
    "y = x.view(-1,8)\n",
    "y"
   ]
  },
  {
   "cell_type": "code",
   "execution_count": 32,
   "id": "4a1f8e78-48af-48e4-af8b-3cdee6eba669",
   "metadata": {},
   "outputs": [],
   "source": [
    "# Conversion between torch and numpy\n",
    "import numpy as np"
   ]
  },
  {
   "cell_type": "code",
   "execution_count": 34,
   "id": "5701dfb2-e9bb-4d30-9502-1d45abc652ea",
   "metadata": {},
   "outputs": [
    {
     "data": {
      "text/plain": [
       "tensor([1., 1., 1., 1., 1.])"
      ]
     },
     "execution_count": 34,
     "metadata": {},
     "output_type": "execute_result"
    }
   ],
   "source": [
    "a = tc.ones(5)\n",
    "a"
   ]
  },
  {
   "cell_type": "code",
   "execution_count": 35,
   "id": "35a4d507-cc3b-4ce5-96e5-0121bc68a656",
   "metadata": {},
   "outputs": [
    {
     "data": {
      "text/plain": [
       "array([1., 1., 1., 1., 1.], dtype=float32)"
      ]
     },
     "execution_count": 35,
     "metadata": {},
     "output_type": "execute_result"
    }
   ],
   "source": [
    "b = a.numpy()\n",
    "b"
   ]
  },
  {
   "cell_type": "code",
   "execution_count": 36,
   "id": "f2814999-4248-47c4-97ad-6fd50fb57bd7",
   "metadata": {},
   "outputs": [
    {
     "data": {
      "text/plain": [
       "numpy.ndarray"
      ]
     },
     "execution_count": 36,
     "metadata": {},
     "output_type": "execute_result"
    }
   ],
   "source": [
    "type(b)"
   ]
  },
  {
   "cell_type": "markdown",
   "id": "fd8a00b7-8a4e-4f7f-bd3c-6d5afa271075",
   "metadata": {},
   "source": [
    "If objects are on CPU and not GPU, they will share the same memory location and thus changing one will change the other"
   ]
  },
  {
   "cell_type": "code",
   "execution_count": 37,
   "id": "078f85ec-793b-4ed1-92d2-14ede4738425",
   "metadata": {},
   "outputs": [
    {
     "name": "stdout",
     "output_type": "stream",
     "text": [
      "tensor([2., 2., 2., 2., 2.])\n"
     ]
    },
    {
     "data": {
      "text/plain": [
       "array([2., 2., 2., 2., 2.], dtype=float32)"
      ]
     },
     "execution_count": 37,
     "metadata": {},
     "output_type": "execute_result"
    }
   ],
   "source": [
    "a.add_(1)\n",
    "print(a)\n",
    "b"
   ]
  },
  {
   "cell_type": "code",
   "execution_count": 38,
   "id": "9ec1d6c9-0048-44a8-8ad0-d2f5b5979e87",
   "metadata": {},
   "outputs": [
    {
     "name": "stdout",
     "output_type": "stream",
     "text": [
      "tensor([3., 3., 3., 3., 3.])\n"
     ]
    },
    {
     "data": {
      "text/plain": [
       "array([3., 3., 3., 3., 3.], dtype=float32)"
      ]
     },
     "execution_count": 38,
     "metadata": {},
     "output_type": "execute_result"
    }
   ],
   "source": [
    "a += 1\n",
    "print(a)\n",
    "b"
   ]
  },
  {
   "cell_type": "markdown",
   "id": "c97a3754-b296-4215-91e9-3a1a3397324c",
   "metadata": {},
   "source": [
    "If GPU is available"
   ]
  },
  {
   "cell_type": "code",
   "execution_count": 39,
   "id": "4e9ba746-3e14-442f-8ce7-2430d7998d9a",
   "metadata": {},
   "outputs": [],
   "source": [
    "if tc.cuda.is_available():\n",
    "    # Specify Device\n",
    "    device = tc.device('cuda')\n",
    "    # Create tensor on device\n",
    "    x = tc.ones(5, device=device)\n",
    "    # y is not on device\n",
    "    y = tc.ones(5)\n",
    "    # Send y to device\n",
    "    y = y.to(device)\n",
    "    # Z arithmetic is performed on gpu\n",
    "    z = x + y\n",
    "    # Numpy can only handle cpu\n",
    "    # z.numpy() --> will result in error\n",
    "    # Move z back to cpu\n",
    "    z = z.to('cpu')"
   ]
  },
  {
   "cell_type": "markdown",
   "id": "859ad6dc-7ef3-4dec-9b71-2a9b88c53f36",
   "metadata": {},
   "source": [
    "Adding paramenter requires_grad=True will tell torch that it will need to create gradient later in optimization steps"
   ]
  },
  {
   "cell_type": "code",
   "execution_count": 40,
   "id": "154c1d34-5915-4b99-b141-8dbc93bbda41",
   "metadata": {},
   "outputs": [
    {
     "data": {
      "text/plain": [
       "tensor([1., 1., 1., 1., 1.], requires_grad=True)"
      ]
     },
     "execution_count": 40,
     "metadata": {},
     "output_type": "execute_result"
    }
   ],
   "source": [
    "x = tc.ones(5, requires_grad=True)\n",
    "x"
   ]
  },
  {
   "cell_type": "code",
   "execution_count": null,
   "id": "1f3c2800-4ccb-431c-b79d-f71692516077",
   "metadata": {},
   "outputs": [],
   "source": []
  }
 ],
 "metadata": {
  "kernelspec": {
   "display_name": "Python 3 (ipykernel)",
   "language": "python",
   "name": "python3"
  },
  "language_info": {
   "codemirror_mode": {
    "name": "ipython",
    "version": 3
   },
   "file_extension": ".py",
   "mimetype": "text/x-python",
   "name": "python",
   "nbconvert_exporter": "python",
   "pygments_lexer": "ipython3",
   "version": "3.9.10"
  }
 },
 "nbformat": 4,
 "nbformat_minor": 5
}
