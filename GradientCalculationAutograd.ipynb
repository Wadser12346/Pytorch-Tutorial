{
 "cells": [
  {
   "cell_type": "markdown",
   "id": "8342c225-88f5-43b3-b039-e306bf394717",
   "metadata": {},
   "source": [
    "Gradients are essential for all optimizations. Autograd is a built in gradient calculator for pytorch."
   ]
  },
  {
   "cell_type": "code",
   "execution_count": 1,
   "id": "24a404b4-ef1a-492c-9d68-d88a6463bb97",
   "metadata": {},
   "outputs": [],
   "source": [
    "import torch as tc"
   ]
  },
  {
   "cell_type": "code",
   "execution_count": 2,
   "id": "71f672e3-f812-49bc-9048-659ca2ecbc18",
   "metadata": {},
   "outputs": [
    {
     "data": {
      "text/plain": [
       "tensor([-1.7552,  0.2298,  0.4503], requires_grad=True)"
      ]
     },
     "execution_count": 2,
     "metadata": {},
     "output_type": "execute_result"
    }
   ],
   "source": [
    "# randn gives a random from a normal distribution with mean 0 and sd 1\n",
    "x = tc.randn(3, requires_grad=True)\n",
    "x"
   ]
  },
  {
   "cell_type": "code",
   "execution_count": 3,
   "id": "2374fb29-ad81-4881-ab7d-d2a430b62553",
   "metadata": {},
   "outputs": [
    {
     "data": {
      "text/plain": [
       "tensor([0.2448, 2.2298, 2.4503], grad_fn=<AddBackward0>)"
      ]
     },
     "execution_count": 3,
     "metadata": {},
     "output_type": "execute_result"
    }
   ],
   "source": [
    "y = x + 2\n",
    "y"
   ]
  },
  {
   "cell_type": "markdown",
   "id": "90c8c141-5f81-4c03-a03f-2fb65cf4a892",
   "metadata": {},
   "source": [
    "![Backpropagation Diagram](Data/Images/diagram_backprop.png \"Backpropagation Diagram\")"
   ]
  },
  {
   "cell_type": "markdown",
   "id": "fd3f39cd-9297-4a78-b904-c8b3e87fecd4",
   "metadata": {},
   "source": [
    "PyTorch will create a gradient function and apply it automatically during back propagation."
   ]
  },
  {
   "cell_type": "code",
   "execution_count": 4,
   "id": "985c25d9-9255-42bb-9fee-815bebc7bbf1",
   "metadata": {},
   "outputs": [
    {
     "data": {
      "text/plain": [
       "tensor([ 0.1198,  9.9440, 12.0078], grad_fn=<MulBackward0>)"
      ]
     },
     "execution_count": 4,
     "metadata": {},
     "output_type": "execute_result"
    }
   ],
   "source": [
    "z = y * y * 2\n",
    "z"
   ]
  },
  {
   "cell_type": "code",
   "execution_count": 5,
   "id": "15880649-7655-4bfb-a67e-564cf98ccf5d",
   "metadata": {},
   "outputs": [
    {
     "data": {
      "text/plain": [
       "tensor(7.3572, grad_fn=<MeanBackward0>)"
      ]
     },
     "execution_count": 5,
     "metadata": {},
     "output_type": "execute_result"
    }
   ],
   "source": [
    "z = z.mean()\n",
    "z"
   ]
  },
  {
   "cell_type": "code",
   "execution_count": 6,
   "id": "e6f5962c-e7aa-4bcf-8226-eda0d9b7778a",
   "metadata": {},
   "outputs": [],
   "source": [
    "# Calculate the gradient for z with respect to x. dz/dx\n",
    "z.backward()"
   ]
  },
  {
   "cell_type": "code",
   "execution_count": 7,
   "id": "14699523-1a15-4f10-bf13-7a566b23eca4",
   "metadata": {},
   "outputs": [
    {
     "data": {
      "text/plain": [
       "tensor([0.3264, 2.9731, 3.2670])"
      ]
     },
     "execution_count": 7,
     "metadata": {},
     "output_type": "execute_result"
    }
   ],
   "source": [
    "# To see gradients stored\n",
    "x.grad"
   ]
  },
  {
   "cell_type": "markdown",
   "id": "d645c4f8-859f-4593-9014-726a7f7272dd",
   "metadata": {},
   "source": [
    "In the background, this uses a Vector-Jacobian product to calculate the gradient.\n",
    "![Vector Jacobian Diagram](Data/Images/vectorjacobian.png \"Vector Jacobian Diagram\")<br>\n",
    "A jacobian matrix with the partial derivatives is multiplied with a gradient vector to result in final gradients<br>\n",
    "Also called chain rule."
   ]
  },
  {
   "cell_type": "code",
   "execution_count": 9,
   "id": "f2fc192c-9435-4bfd-88f2-bd99d0720aa4",
   "metadata": {},
   "outputs": [
    {
     "data": {
      "text/plain": [
       "tensor([ 5.4162e-01,  6.7663e+00, -1.1053e-03])"
      ]
     },
     "execution_count": 9,
     "metadata": {},
     "output_type": "execute_result"
    }
   ],
   "source": [
    "# z.backward()\n",
    "# Gradients can only be implicitly made for scalar outputs.\n",
    "# To do this without we must provide backward a gradient argument. The argument is a vector of the same size\n",
    "x = tc.randn(3, requires_grad=True)\n",
    "y = x + 2\n",
    "z = y * y * 2\n",
    "v = tc.tensor([0.1,1.0,0.001], dtype=tc.float32)\n",
    "z.backward(v)\n",
    "x.grad"
   ]
  },
  {
   "cell_type": "markdown",
   "id": "c9b85047-282d-41ba-b8ae-f9fcd96e28f7",
   "metadata": {},
   "source": [
    "Sometimes during training we want to update weights but this should not be part of gradient computation.<br>\n",
    "3 options to prevent tracking the gradient:<br>\n",
    "x.requires_grad_(False)\n",
    "\n",
    "x.detach()\n",
    "\n",
    "with torch.no_grad():<br>\n",
    "    ...."
   ]
  },
  {
   "cell_type": "code",
   "execution_count": null,
   "id": "07ebcfae-39ab-4ebf-8c4a-32543e2fe65e",
   "metadata": {},
   "outputs": [],
   "source": []
  },
  {
   "cell_type": "code",
   "execution_count": 11,
   "id": "2fa0cd8b-29dc-49bc-b32f-2fb908c3a611",
   "metadata": {},
   "outputs": [
    {
     "data": {
      "text/plain": [
       "tensor([-1.3348, -0.7026,  0.2218])"
      ]
     },
     "execution_count": 11,
     "metadata": {},
     "output_type": "execute_result"
    }
   ],
   "source": [
    "x = tc.randn(3, requires_grad=True)\n",
    "x.requires_grad_(False)\n",
    "x"
   ]
  },
  {
   "cell_type": "code",
   "execution_count": 12,
   "id": "0850b0ac-f5b3-4717-9602-3483d0fb2d4b",
   "metadata": {},
   "outputs": [
    {
     "data": {
      "text/plain": [
       "tensor([-1.6131, -0.2991,  1.2048])"
      ]
     },
     "execution_count": 12,
     "metadata": {},
     "output_type": "execute_result"
    }
   ],
   "source": [
    "x = tc.randn(3, requires_grad=True)\n",
    "y = x.detach()\n",
    "y"
   ]
  },
  {
   "cell_type": "code",
   "execution_count": 16,
   "id": "55cf98f7-3842-476e-a806-5cfc5ebd88b8",
   "metadata": {},
   "outputs": [
    {
     "data": {
      "text/plain": [
       "tensor([3.4342, 1.0998, 3.4113])"
      ]
     },
     "execution_count": 16,
     "metadata": {},
     "output_type": "execute_result"
    }
   ],
   "source": [
    "x = tc.randn(3, requires_grad=True)\n",
    "with tc.no_grad():\n",
    "    y = x + 2\n",
    "y"
   ]
  },
  {
   "cell_type": "markdown",
   "id": "b2ca8322-8f03-4609-befe-049a36f75719",
   "metadata": {},
   "source": [
    "Whenever we call the backward function. Then the gradient for this tensor will be accummulated into the .grad attribute.<br>\n",
    "The values will be summed up"
   ]
  },
  {
   "cell_type": "code",
   "execution_count": 19,
   "id": "bb7c7383-76ff-4cf7-bfb9-8f4a35ae563c",
   "metadata": {},
   "outputs": [
    {
     "name": "stdout",
     "output_type": "stream",
     "text": [
      "tensor([3., 3., 3., 3.])\n"
     ]
    }
   ],
   "source": [
    "weights = tc.ones(4,requires_grad=True)\n",
    "for epoch in range(1):\n",
    "    model_output = (weights * 3).sum()\n",
    "    \n",
    "    model_output.backward()\n",
    "    \n",
    "    print(weights.grad)"
   ]
  },
  {
   "cell_type": "code",
   "execution_count": 21,
   "id": "6fa78276-35ed-4725-b6ba-f87bb3532d82",
   "metadata": {},
   "outputs": [
    {
     "name": "stdout",
     "output_type": "stream",
     "text": [
      "tensor([3., 3., 3., 3.])\n",
      "tensor([6., 6., 6., 6.])\n"
     ]
    }
   ],
   "source": [
    "weights = tc.ones(4,requires_grad=True)\n",
    "for epoch in range(2):\n",
    "    model_output = (weights * 3).sum()\n",
    "    \n",
    "    model_output.backward()\n",
    "    \n",
    "    print(weights.grad)"
   ]
  },
  {
   "cell_type": "code",
   "execution_count": 22,
   "id": "d6d1cd02-361b-4f4c-b90f-2a1725c96c91",
   "metadata": {},
   "outputs": [
    {
     "name": "stdout",
     "output_type": "stream",
     "text": [
      "tensor([3., 3., 3., 3.])\n",
      "tensor([6., 6., 6., 6.])\n",
      "tensor([9., 9., 9., 9.])\n"
     ]
    }
   ],
   "source": [
    "weights = tc.ones(4,requires_grad=True)\n",
    "for epoch in range(3):\n",
    "    model_output = (weights * 3).sum()\n",
    "    \n",
    "    model_output.backward()\n",
    "    \n",
    "    print(weights.grad)"
   ]
  },
  {
   "cell_type": "markdown",
   "id": "faafce93-9c77-457d-8f79-b312c2ddf9e9",
   "metadata": {},
   "source": [
    "Each backward call sums up the gradient. Gradients are now incorrect. Must empty the gradient before the next optimization step by calling<br>\n",
    ".grad.zero_() function"
   ]
  },
  {
   "cell_type": "code",
   "execution_count": 24,
   "id": "bcb9f31d-7356-47c1-a172-c3f8b5e84008",
   "metadata": {},
   "outputs": [
    {
     "name": "stdout",
     "output_type": "stream",
     "text": [
      "tensor([3., 3., 3., 3.])\n",
      "tensor([3., 3., 3., 3.])\n",
      "tensor([3., 3., 3., 3.])\n"
     ]
    }
   ],
   "source": [
    "weights = tc.ones(4,requires_grad=True)\n",
    "for epoch in range(3):\n",
    "    model_output = (weights * 3).sum()\n",
    "    \n",
    "    model_output.backward()\n",
    "    \n",
    "    print(weights.grad)\n",
    "    \n",
    "    weights.grad.zero_()"
   ]
  },
  {
   "cell_type": "markdown",
   "id": "1b669e9f-dd9b-4c68-9dcc-ace7cb07fcf1",
   "metadata": {},
   "source": [
    "Later when working with the pytorch builtin optimizer:<br>"
   ]
  },
  {
   "cell_type": "code",
   "execution_count": 26,
   "id": "f6e571e6-611e-40d9-a085-f8dc2b1e6b9d",
   "metadata": {},
   "outputs": [],
   "source": [
    "weights = tc.ones(4,requires_grad=True)\n",
    "optimizer = tc.optim.SGD([weights], lr = 0.01)\n",
    "optimizer.step()\n",
    "optimizer.zero_grad()"
   ]
  },
  {
   "cell_type": "code",
   "execution_count": null,
   "id": "9c4000ba-7c31-48b0-88bb-4d89fafd1d97",
   "metadata": {},
   "outputs": [],
   "source": []
  }
 ],
 "metadata": {
  "kernelspec": {
   "display_name": "Python 3 (ipykernel)",
   "language": "python",
   "name": "python3"
  },
  "language_info": {
   "codemirror_mode": {
    "name": "ipython",
    "version": 3
   },
   "file_extension": ".py",
   "mimetype": "text/x-python",
   "name": "python",
   "nbconvert_exporter": "python",
   "pygments_lexer": "ipython3",
   "version": "3.9.10"
  }
 },
 "nbformat": 4,
 "nbformat_minor": 5
}
